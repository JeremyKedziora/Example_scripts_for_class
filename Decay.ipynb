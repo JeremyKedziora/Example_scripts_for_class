{
 "cells": [
  {
   "cell_type": "code",
   "execution_count": 180,
   "metadata": {
    "collapsed": true
   },
   "outputs": [],
   "source": [
    "#@@@@@@@@@@@@@@@@@\n",
    "#decay estimation:\n",
    "#4/27/2016\n",
    "#@@@@@@@@@@@@@@@@@\n",
    "\n",
    "import numpy as np\n",
    "import math\n",
    "import statsmodels.api as sm\n",
    "import matplotlib.pyplot as plt"
   ]
  },
  {
   "cell_type": "code",
   "execution_count": 181,
   "metadata": {
    "collapsed": false
   },
   "outputs": [],
   "source": [
    "#generate fake data:\n",
    "counts = []    #an empty list to hold the faux data\n",
    "counts.append(np.random.randint(100,500))    #choose the first point\n",
    "k = 0.25    #set the true decay rate\n",
    "for t in range(30):    #loop over a month of days\n",
    "    e = np.random.normal(0,0.1,1)    #sample a random error\n",
    "    counts.append(round(counts[0]*math.exp(-(k + e)*t)) + 1.0)    #decay the count according to the random error\n",
    "\n",
    "N = [counts[0]]    #a list to hold the cumulative counts\n",
    "for i in range(1,len(counts)):    #loop over counts\n",
    "    N.append(counts[i] + cum_counts[i-1])    #make the cumulative counts\n",
    "T = np.array(range(len(counts))) + 1.0    #change to a numpy array\n",
    "N = np.array(N)    #change to a numpy array"
   ]
  },
  {
   "cell_type": "code",
   "execution_count": 182,
   "metadata": {
    "collapsed": false
   },
   "outputs": [],
   "source": [
    "def llik(alpha,N,T):\n",
    "    \"\"\"A function to compute the log-likelihood of the pure-birth process.\n",
    "    Takes in:\n",
    "    alpha: the probability of share\n",
    "    N: the cumulative number of shares at each time\n",
    "    T: the time passed\"\"\"\n",
    "    return sum(-alpha*N*T + (N - N[0])*np.log(1 - np.exp(-alpha*T)))"
   ]
  },
  {
   "cell_type": "code",
   "execution_count": 183,
   "metadata": {
    "collapsed": false
   },
   "outputs": [],
   "source": [
    "alpha = np.linspace(start=0.0001,stop=1.0,num=10000)    #set up a grid for gridsearch\n",
    "OF = []    #set up a list to hold the log likelihood\n",
    "for a in alpha:    #loop over grid\n",
    "    OF.append(llik(a,N,T))    #compute the log likelihood for each alpha\n",
    "alpha = alpha[OF.index(max(OF))]    #choose the alpha that maximizes the likelihood"
   ]
  },
  {
   "cell_type": "code",
   "execution_count": 184,
   "metadata": {
    "collapsed": false
   },
   "outputs": [
    {
     "data": {
      "text/plain": [
       "0.0264"
      ]
     },
     "execution_count": 184,
     "metadata": {},
     "output_type": "execute_result"
    }
   ],
   "source": [
    "alpha"
   ]
  }
 ],
 "metadata": {
  "kernelspec": {
   "display_name": "Python 3",
   "language": "python",
   "name": "python3"
  },
  "language_info": {
   "codemirror_mode": {
    "name": "ipython",
    "version": 3
   },
   "file_extension": ".py",
   "mimetype": "text/x-python",
   "name": "python",
   "nbconvert_exporter": "python",
   "pygments_lexer": "ipython3",
   "version": "3.5.1"
  }
 },
 "nbformat": 4,
 "nbformat_minor": 0
}
