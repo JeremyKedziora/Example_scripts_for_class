{
 "cells": [
  {
   "cell_type": "code",
   "execution_count": 1,
   "metadata": {
    "collapsed": true
   },
   "outputs": [],
   "source": [
    "#@@@@@@@@@@@@@@@@@@@@@@@@@@@@@\n",
    "#A code for the adaptive lasso\n",
    "#@@@@@@@@@@@@@@@@@@@@@@@@@@@@@\n",
    "\n",
    "import numpy as np\n",
    "from scipy.optimize import minimize"
   ]
  },
  {
   "cell_type": "code",
   "execution_count": 2,
   "metadata": {
    "collapsed": true
   },
   "outputs": [],
   "source": [
    "#define functions\n",
    "def maker(N,n_vars,p):\n",
    "    \"\"\"A function to generate Monte Carlo linear regression data\"\"\"\n",
    "    x = []    #an empty list to hold the data\n",
    "    y = np.zeros(N)    #an array to hold the dependent variable\n",
    "    b = []    #an empty list to hold the true bs\n",
    "    i = 1\n",
    "    while i <= n_vars:    #loop over the variables we want to create\n",
    "        x_i = np.random.normal(loc = 0.0, scale = 1.0, size = N)    #generate the data\n",
    "        x.append(x_i)    #add it to the list of data\n",
    "        if np.random.uniform(0,1) < p:    #if the variable matters...\n",
    "            b_i = np.random.normal(loc = 0.0, scale = 1.0)    #draw a random effect for this variable\n",
    "        else:\n",
    "            b_i = 0    #otherwise set it's true effect equal to 0.\n",
    "        b.append(b_i)    #add it to the list of effects\n",
    "        y = y + b_i*x_i    #add the variable effect to the dependent variable\n",
    "        i += 1    #index up i\n",
    "        \n",
    "    \n",
    "    b_i = np.random.normal(loc = 0.0, scale = 1.0)    #draw a random intercept\n",
    "    b.append(b_i)    #append this intercept to the effects\n",
    "    y = b_i + y + np.random.normal(loc = 0.0, scale = 1.0, size = N)    #add the normally distributed error term and the intercept\n",
    "    return [np.array(x),np.array(y),np.array(b)]"
   ]
  },
  {
   "cell_type": "code",
   "execution_count": 3,
   "metadata": {
    "collapsed": true
   },
   "outputs": [],
   "source": [
    "def adaptive_lasso(b,X,y,alpha,gamma):\n",
    "    \"\"\"A function to return the value of the adaptive lasso objective function.\"\"\"\n",
    "    Beta_OLS = np.linalg.inv(X.T.dot(X)).dot(X.T.dot(y))    #compute the OLS coefficients\n",
    "    return sum((y - X.dot(b))**2) + alpha*sum((1.0/(abs(Beta_OLS)**gamma))*abs(b))    #compute and return the objective function value"
   ]
  },
  {
   "cell_type": "code",
   "execution_count": 4,
   "metadata": {
    "collapsed": true
   },
   "outputs": [],
   "source": [
    "def Adaptive_Lasso_tuner(X,y,gamma,lo,hi,step):\n",
    "    \"\"\"A function to tune the alpha parameter in the adaptive lasso.\"\"\"\n",
    "    b = np.random.uniform(size = len(X[0]))*0.1    #generate random starting values\n",
    "    grid = np.arange(lo,hi,step=step)    #set up the alpha grid\n",
    "    error = []    #an empty list to hold the error\n",
    "    for g in grid:    #loop over grid points\n",
    "        print(g)\n",
    "        model = minimize(adaptive_lasso, x0 = b, args = (X,y,g,gamma), method = 'BFGS')    #optimize the adaptive lasso\n",
    "        coefficients = model.x    #extract the coefficients\n",
    "        error.append(sum((y - X.dot(coefficients))**2))    #compute the within sample error\n",
    "    error = np.array(error)    #change to numpy array for vectorization\n",
    "    error = error/sum(error)    #normalize so that it acts as a weight\n",
    "    alpha = sum(error*grid)    #choose alpha as the weighted average\n",
    "    model = minimize(adaptive_lasso, x0 = b, args = (X,y,alpha,gamma), method = 'BFGS')    #optimize the adaptive lasso using the tuned alpha\n",
    "    coefficients = model.x    #extract the coefficients\n",
    "    return [coefficients,alpha]"
   ]
  },
  {
   "cell_type": "code",
   "execution_count": 5,
   "metadata": {
    "collapsed": false
   },
   "outputs": [
    {
     "name": "stdout",
     "output_type": "stream",
     "text": [
      "0.0\n",
      "0.5\n",
      "1.0\n",
      "1.5\n",
      "2.0\n",
      "2.5\n",
      "3.0\n",
      "3.5\n",
      "4.0\n",
      "4.5\n",
      "5.0\n",
      "5.5\n",
      "6.0\n",
      "6.5\n",
      "7.0\n",
      "7.5\n",
      "8.0\n",
      "8.5\n",
      "9.0\n",
      "9.5\n",
      "[  1.10332199e+00  -5.19537449e-09  -7.85735212e-09   3.88490652e-01\n",
      "   1.60156997e-02  -5.78358963e-08  -3.19075058e-09  -8.42216498e-09\n",
      "  -8.53849983e-09  -7.67663257e-09   8.88430233e-01  -1.44626895e-01\n",
      "  -6.15157001e-09  -1.23576056e+00   2.90256125e-01  -6.40686054e-01\n",
      "  -1.00308452e+00  -6.64228803e-09  -5.72444102e-09  -2.23235637e-02\n",
      "  -2.48364859e-01]\n",
      "[ 1.10539068  0.          0.          0.40649126  0.          0.          0.\n",
      "  0.          0.          0.          0.88884301 -0.15617119  0.\n",
      " -1.23354496  0.29468643 -0.64324459 -1.00241751  0.          0.          0.\n",
      " -0.25759094]\n"
     ]
    }
   ],
   "source": [
    "#make the data and put it into the correct form\n",
    "N = 10000\n",
    "n_var = 20\n",
    "n_extra = 4\n",
    "Data = maker(N,n_var,p=0.6)    #make the data\n",
    "X = Data[0]    #pull out the independent variables\n",
    "X = np.c_[X.T,np.ones(N)]    #add a column of 1s to it for the constant\n",
    "y = Data[1]    #pull out the dependent variable    \n",
    "\n",
    "\n",
    "#run the model\n",
    "model = Adaptive_Lasso_tuner(X,y,1.0,0,10,0.5)    #tune the model\n",
    "\n",
    "print(model[0])\n",
    "print(Data[2])"
   ]
  }
 ],
 "metadata": {
  "kernelspec": {
   "display_name": "Python 3",
   "language": "python",
   "name": "python3"
  },
  "language_info": {
   "codemirror_mode": {
    "name": "ipython",
    "version": 3
   },
   "file_extension": ".py",
   "mimetype": "text/x-python",
   "name": "python",
   "nbconvert_exporter": "python",
   "pygments_lexer": "ipython3",
   "version": "3.4.5"
  }
 },
 "nbformat": 4,
 "nbformat_minor": 2
}
