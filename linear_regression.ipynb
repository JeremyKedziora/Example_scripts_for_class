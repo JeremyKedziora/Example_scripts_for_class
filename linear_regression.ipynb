{
 "cells": [
  {
   "cell_type": "code",
   "execution_count": 1,
   "metadata": {
    "collapsed": true
   },
   "outputs": [],
   "source": [
    "import pandas as pd    #import pandas for data\n",
    "from patsy import dmatrices    #import patsy for easy matrix specification\n",
    "import statsmodels.api as sm    #import statsmodels for the stats models\n",
    "import statsmodels.formula.api as smf    #import .formula for R-like formula specification\n",
    "from sklearn.linear_model import LinearRegression    #import linear regression from sklearn for yet another way to do it"
   ]
  },
  {
   "cell_type": "code",
   "execution_count": 2,
   "metadata": {
    "collapsed": false
   },
   "outputs": [
    {
     "data": {
      "text/html": [
       "<div>\n",
       "<table border=\"1\" class=\"dataframe\">\n",
       "  <thead>\n",
       "    <tr style=\"text-align: right;\">\n",
       "      <th></th>\n",
       "      <th>sx</th>\n",
       "      <th>rk</th>\n",
       "      <th>yr</th>\n",
       "      <th>dg</th>\n",
       "      <th>yd</th>\n",
       "      <th>sl</th>\n",
       "    </tr>\n",
       "  </thead>\n",
       "  <tbody>\n",
       "    <tr>\n",
       "      <th>0</th>\n",
       "      <td>male</td>\n",
       "      <td>full</td>\n",
       "      <td>25</td>\n",
       "      <td>doctorate</td>\n",
       "      <td>35</td>\n",
       "      <td>36350</td>\n",
       "    </tr>\n",
       "    <tr>\n",
       "      <th>1</th>\n",
       "      <td>male</td>\n",
       "      <td>full</td>\n",
       "      <td>13</td>\n",
       "      <td>doctorate</td>\n",
       "      <td>22</td>\n",
       "      <td>35350</td>\n",
       "    </tr>\n",
       "    <tr>\n",
       "      <th>2</th>\n",
       "      <td>male</td>\n",
       "      <td>full</td>\n",
       "      <td>10</td>\n",
       "      <td>doctorate</td>\n",
       "      <td>23</td>\n",
       "      <td>28200</td>\n",
       "    </tr>\n",
       "    <tr>\n",
       "      <th>3</th>\n",
       "      <td>female</td>\n",
       "      <td>full</td>\n",
       "      <td>7</td>\n",
       "      <td>doctorate</td>\n",
       "      <td>27</td>\n",
       "      <td>26775</td>\n",
       "    </tr>\n",
       "    <tr>\n",
       "      <th>4</th>\n",
       "      <td>male</td>\n",
       "      <td>full</td>\n",
       "      <td>19</td>\n",
       "      <td>masters</td>\n",
       "      <td>30</td>\n",
       "      <td>33696</td>\n",
       "    </tr>\n",
       "  </tbody>\n",
       "</table>\n",
       "</div>"
      ],
      "text/plain": [
       "       sx    rk  yr         dg  yd     sl\n",
       "0    male  full  25  doctorate  35  36350\n",
       "1    male  full  13  doctorate  22  35350\n",
       "2    male  full  10  doctorate  23  28200\n",
       "3  female  full   7  doctorate  27  26775\n",
       "4    male  full  19    masters  30  33696"
      ]
     },
     "execution_count": 2,
     "metadata": {},
     "output_type": "execute_result"
    }
   ],
   "source": [
    "url = \"http://data.princeton.edu/wws509/datasets/salary.dat\"    #define the url\n",
    "data = pd.read_csv(url, sep='\\s+')    #read in the data\n",
    "data.head()    #have a look at the beginning of the data"
   ]
  },
  {
   "cell_type": "code",
   "execution_count": 3,
   "metadata": {
    "collapsed": true
   },
   "outputs": [],
   "source": [
    "y, X = dmatrices('sl ~ sx + yr + rk', data=data, return_type='dataframe')    #set up dependent and independent variable matrices"
   ]
  },
  {
   "cell_type": "code",
   "execution_count": 4,
   "metadata": {
    "collapsed": false
   },
   "outputs": [
    {
     "name": "stdout",
     "output_type": "stream",
     "text": [
      "      sl\n",
      "0  36350\n",
      "1  35350\n",
      "2  28200\n",
      "3  26775\n",
      "4  33696\n",
      "   Intercept  sx[T.male]  rk[T.associate]  rk[T.full]  yr\n",
      "0          1           1                0           1  25\n",
      "1          1           1                0           1  13\n",
      "2          1           1                0           1  10\n",
      "3          1           0                0           1   7\n",
      "4          1           1                0           1  19\n"
     ]
    }
   ],
   "source": [
    "print(y.head())    #the dependent variable is salary\n",
    "print(X.head())    #the independent variances are: constant, gender, associate dummy, full dummy, years at current rank"
   ]
  },
  {
   "cell_type": "code",
   "execution_count": 5,
   "metadata": {
    "collapsed": false
   },
   "outputs": [
    {
     "name": "stdout",
     "output_type": "stream",
     "text": [
      "type of model: <class 'statsmodels.regression.linear_model.OLS'>\n",
      "type of results: <class 'statsmodels.regression.linear_model.RegressionResultsWrapper'>\n"
     ]
    }
   ],
   "source": [
    "model = sm.OLS(y, X)    #define the statsmodels model object\n",
    "results = model.fit()    #fit it\n",
    "print('type of model:', type(model))    #double check what we have created\n",
    "print('type of results:', type(results))"
   ]
  },
  {
   "cell_type": "code",
   "execution_count": 6,
   "metadata": {
    "collapsed": false
   },
   "outputs": [
    {
     "data": {
      "text/html": [
       "<table class=\"simpletable\">\n",
       "<caption>OLS Regression Results</caption>\n",
       "<tr>\n",
       "  <th>Dep. Variable:</th>           <td>sl</td>        <th>  R-squared:         </th> <td>   0.846</td>\n",
       "</tr>\n",
       "<tr>\n",
       "  <th>Model:</th>                   <td>OLS</td>       <th>  Adj. R-squared:    </th> <td>   0.833</td>\n",
       "</tr>\n",
       "<tr>\n",
       "  <th>Method:</th>             <td>Least Squares</td>  <th>  F-statistic:       </th> <td>   64.64</td>\n",
       "</tr>\n",
       "<tr>\n",
       "  <th>Date:</th>             <td>Fri, 15 Apr 2016</td> <th>  Prob (F-statistic):</th> <td>1.64e-18</td>\n",
       "</tr>\n",
       "<tr>\n",
       "  <th>Time:</th>                 <td>13:08:50</td>     <th>  Log-Likelihood:    </th> <td> -476.26</td>\n",
       "</tr>\n",
       "<tr>\n",
       "  <th>No. Observations:</th>      <td>    52</td>      <th>  AIC:               </th> <td>   962.5</td>\n",
       "</tr>\n",
       "<tr>\n",
       "  <th>Df Residuals:</th>          <td>    47</td>      <th>  BIC:               </th> <td>   972.3</td>\n",
       "</tr>\n",
       "<tr>\n",
       "  <th>Df Model:</th>              <td>     4</td>      <th>                     </th>     <td> </td>   \n",
       "</tr>\n",
       "<tr>\n",
       "  <th>Covariance Type:</th>      <td>nonrobust</td>    <th>                     </th>     <td> </td>   \n",
       "</tr>\n",
       "</table>\n",
       "<table class=\"simpletable\">\n",
       "<tr>\n",
       "         <td></td>            <th>coef</th>     <th>std err</th>      <th>t</th>      <th>P>|t|</th> <th>[95.0% Conf. Int.]</th> \n",
       "</tr>\n",
       "<tr>\n",
       "  <th>Intercept</th>       <td> 1.643e+04</td> <td>  737.966</td> <td>   22.265</td> <td> 0.000</td> <td> 1.49e+04  1.79e+04</td>\n",
       "</tr>\n",
       "<tr>\n",
       "  <th>sx[T.male]</th>      <td> -524.1492</td> <td>  834.687</td> <td>   -0.628</td> <td> 0.533</td> <td>-2203.323  1155.024</td>\n",
       "</tr>\n",
       "<tr>\n",
       "  <th>rk[T.associate]</th> <td> 4373.9154</td> <td>  906.124</td> <td>    4.827</td> <td> 0.000</td> <td> 2551.030  6196.801</td>\n",
       "</tr>\n",
       "<tr>\n",
       "  <th>rk[T.full]</th>      <td> 9483.8419</td> <td>  912.795</td> <td>   10.390</td> <td> 0.000</td> <td> 7647.536  1.13e+04</td>\n",
       "</tr>\n",
       "<tr>\n",
       "  <th>yr</th>              <td>  390.9358</td> <td>   75.383</td> <td>    5.186</td> <td> 0.000</td> <td>  239.285   542.587</td>\n",
       "</tr>\n",
       "</table>\n",
       "<table class=\"simpletable\">\n",
       "<tr>\n",
       "  <th>Omnibus:</th>       <td>23.039</td> <th>  Durbin-Watson:     </th> <td>   1.832</td>\n",
       "</tr>\n",
       "<tr>\n",
       "  <th>Prob(Omnibus):</th> <td> 0.000</td> <th>  Jarque-Bera (JB):  </th> <td>  38.727</td>\n",
       "</tr>\n",
       "<tr>\n",
       "  <th>Skew:</th>          <td> 1.410</td> <th>  Prob(JB):          </th> <td>3.90e-09</td>\n",
       "</tr>\n",
       "<tr>\n",
       "  <th>Kurtosis:</th>      <td> 6.150</td> <th>  Cond. No.          </th> <td>    32.3</td>\n",
       "</tr>\n",
       "</table>"
      ],
      "text/plain": [
       "<class 'statsmodels.iolib.summary.Summary'>\n",
       "\"\"\"\n",
       "                            OLS Regression Results                            \n",
       "==============================================================================\n",
       "Dep. Variable:                     sl   R-squared:                       0.846\n",
       "Model:                            OLS   Adj. R-squared:                  0.833\n",
       "Method:                 Least Squares   F-statistic:                     64.64\n",
       "Date:                Fri, 15 Apr 2016   Prob (F-statistic):           1.64e-18\n",
       "Time:                        13:08:50   Log-Likelihood:                -476.26\n",
       "No. Observations:                  52   AIC:                             962.5\n",
       "Df Residuals:                      47   BIC:                             972.3\n",
       "Df Model:                           4                                         \n",
       "Covariance Type:            nonrobust                                         \n",
       "===================================================================================\n",
       "                      coef    std err          t      P>|t|      [95.0% Conf. Int.]\n",
       "-----------------------------------------------------------------------------------\n",
       "Intercept        1.643e+04    737.966     22.265      0.000      1.49e+04  1.79e+04\n",
       "sx[T.male]       -524.1492    834.687     -0.628      0.533     -2203.323  1155.024\n",
       "rk[T.associate]  4373.9154    906.124      4.827      0.000      2551.030  6196.801\n",
       "rk[T.full]       9483.8419    912.795     10.390      0.000      7647.536  1.13e+04\n",
       "yr                390.9358     75.383      5.186      0.000       239.285   542.587\n",
       "==============================================================================\n",
       "Omnibus:                       23.039   Durbin-Watson:                   1.832\n",
       "Prob(Omnibus):                  0.000   Jarque-Bera (JB):               38.727\n",
       "Skew:                           1.410   Prob(JB):                     3.90e-09\n",
       "Kurtosis:                       6.150   Cond. No.                         32.3\n",
       "==============================================================================\n",
       "\n",
       "Warnings:\n",
       "[1] Standard Errors assume that the covariance matrix of the errors is correctly specified.\n",
       "\"\"\""
      ]
     },
     "execution_count": 6,
     "metadata": {},
     "output_type": "execute_result"
    }
   ],
   "source": [
    "results.summary()    #summarize the results"
   ]
  },
  {
   "cell_type": "code",
   "execution_count": null,
   "metadata": {
    "collapsed": false
   },
   "outputs": [],
   "source": [
    "results = smf.ols(formula=\"sl ~ yr\", data=data).fit()    #fit a model using this call\n",
    "results.summary()    #summarize the results"
   ]
  },
  {
   "cell_type": "code",
   "execution_count": null,
   "metadata": {
    "collapsed": false
   },
   "outputs": [],
   "source": [
    "results = smf.ols(formula=\"sl ~ sx + yr + rk\", data=data).fit()    #fit another model using this call\n",
    "results.summary()    #summarize the results"
   ]
  },
  {
   "cell_type": "code",
   "execution_count": null,
   "metadata": {
    "collapsed": false
   },
   "outputs": [],
   "source": [
    "model = LinearRegression()    #define a linear model using sklearn\n",
    "model.fit(X, y)    #fit the model"
   ]
  },
  {
   "cell_type": "code",
   "execution_count": null,
   "metadata": {
    "collapsed": false
   },
   "outputs": [],
   "source": [
    "model.score(X, y)    #return the R2 associated with this estimation"
   ]
  },
  {
   "cell_type": "code",
   "execution_count": null,
   "metadata": {
    "collapsed": false
   },
   "outputs": [],
   "source": [
    "model.coef_    #return the coefficients"
   ]
  },
  {
   "cell_type": "code",
   "execution_count": null,
   "metadata": {
    "collapsed": false
   },
   "outputs": [],
   "source": [
    "model.intercept_    #return the constant"
   ]
  },
  {
   "cell_type": "code",
   "execution_count": null,
   "metadata": {
    "collapsed": true
   },
   "outputs": [],
   "source": []
  }
 ],
 "metadata": {
  "kernelspec": {
   "display_name": "Python 3",
   "language": "python",
   "name": "python3"
  },
  "language_info": {
   "codemirror_mode": {
    "name": "ipython",
    "version": 3
   },
   "file_extension": ".py",
   "mimetype": "text/x-python",
   "name": "python",
   "nbconvert_exporter": "python",
   "pygments_lexer": "ipython3",
   "version": "3.5.1"
  }
 },
 "nbformat": 4,
 "nbformat_minor": 0
}
